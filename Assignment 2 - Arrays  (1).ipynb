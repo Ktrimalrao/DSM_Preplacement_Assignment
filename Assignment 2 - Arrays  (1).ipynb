{
 "cells": [
  {
   "cell_type": "markdown",
   "id": "2789054a-125c-4f43-825d-af3b590d9759",
   "metadata": {},
   "source": [
    "# Assignment 2 - Arrays "
   ]
  },
  {
   "cell_type": "markdown",
   "id": "b353fc27-a7c3-4627-a3ac-0641b55ef24a",
   "metadata": {},
   "source": [
    "#### Question-1"
   ]
  },
  {
   "cell_type": "markdown",
   "id": "51c41d48-2dfe-4923-b35c-29f33caf357d",
   "metadata": {},
   "source": [
    "<aside>\n",
    "💡 **Question 1**\n",
    "Given an integer array nums of 2n integers, group these integers into n pairs (a1, b1), (a2, b2),..., (an, bn) such that the sum of min(ai, bi) for all i is maximized. Return the maximized sum.\n",
    "\n",
    "**Example 1:**\n",
    "Input: nums = [1,4,3,2]\n",
    "Output: 4\n",
    "\n",
    "**Explanation:** All possible pairings (ignoring the ordering of elements) are:\n",
    "\n",
    "1. (1, 4), (2, 3) -> min(1, 4) + min(2, 3) = 1 + 2 = 3\n",
    "2. (1, 3), (2, 4) -> min(1, 3) + min(2, 4) = 1 + 2 = 3\n",
    "3. (1, 2), (3, 4) -> min(1, 2) + min(3, 4) = 1 + 3 = 4\n",
    "So the maximum possible sum is 4\n",
    "</aside>"
   ]
  },
  {
   "cell_type": "code",
   "execution_count": 3,
   "id": "8a9f946b-9d3d-4a14-ae59-d283097ddae9",
   "metadata": {},
   "outputs": [
    {
     "name": "stdin",
     "output_type": "stream",
     "text": [
      "Enter no. of Elements present in array: 4\n",
      "Enter index-0 element: 1\n",
      "Enter index-1 element: 4\n",
      "Enter index-2 element: 3\n",
      "Enter index-3 element: 2\n"
     ]
    },
    {
     "name": "stdout",
     "output_type": "stream",
     "text": [
      "Array is :[1, 4, 3, 2]\n",
      " maximum possible sum is 4\n"
     ]
    }
   ],
   "source": [
    "num = int(input('Enter no. of Elements present in array:'))\n",
    "arr = []\n",
    "for i in range(num):\n",
    "    ele = int(input(f'Enter index-{i} element:'))\n",
    "    arr.append(ele)\n",
    "print(f'Array is :{arr}')\n",
    "\n",
    "def max_sum_poss(arr,num):\n",
    "    arr.sort()\n",
    "    max_sum=0\n",
    "    for i in range(0,num,2):\n",
    "        max_sum+=arr[i]\n",
    "    return max_sum\n",
    "Sum = max_sum_poss(arr,num)\n",
    "print(f' maximum possible sum is {Sum}')"
   ]
  },
  {
   "cell_type": "markdown",
   "id": "7f3de1fb-169c-4067-9605-d800f49e933b",
   "metadata": {},
   "source": [
    "#### Question-2"
   ]
  },
  {
   "cell_type": "markdown",
   "id": "0b9295c0-e24b-4965-89be-697d163c9e23",
   "metadata": {},
   "source": [
    "Question 2\n",
    "Alice has n candies, where the ith candy is of type candyType[i]. Alice noticed that she started to gain weight, so she visited a doctor. \n",
    "\n",
    "The doctor advised Alice to only eat n / 2 of the candies she has (n is always even). Alice likes her candies very much, and she wants to eat the maximum number of different types of candies while still following the doctor's advice. \n",
    "\n",
    "Given the integer array candyType of length n, return the maximum number of different types of candies she can eat if she only eats n / 2 of them.\n",
    "\n",
    "Example 1:\n",
    "Input: candyType = [1,1,2,2,3,3]\n",
    "Output: 3\n",
    "\n",
    "Explanation: Alice can only eat 6 / 2 = 3 candies. Since there are only 3 types, she can eat one of each type."
   ]
  },
  {
   "cell_type": "code",
   "execution_count": 6,
   "id": "be0b1641-30e5-40fb-b7f1-91320de1b60e",
   "metadata": {},
   "outputs": [
    {
     "name": "stdin",
     "output_type": "stream",
     "text": [
      "Enter no. of candies: 6\n",
      "Enter index-0 candies ele: 1\n",
      "Enter index-1 candies ele: 1\n",
      "Enter index-2 candies ele: 2\n",
      "Enter index-3 candies ele: 2\n",
      "Enter index-4 candies ele: 3\n",
      "Enter index-5 candies ele: 3\n"
     ]
    },
    {
     "name": "stdout",
     "output_type": "stream",
     "text": [
      "candy_type is :[1, 1, 2, 2, 3, 3]\n",
      "Since there are only 3 types, she can eat one of each type.\n"
     ]
    }
   ],
   "source": [
    "num = int(input('Enter no. of candies:'))\n",
    "candy = []\n",
    "for i in range(num):\n",
    "    ele = int(input(f'Enter index-{i} candies ele:'))\n",
    "    candy.append(ele)\n",
    "print(f'candy_type is :{candy}')\n",
    "\n",
    "def max_eat(candy):\n",
    "    unique_candy = len(set(candy))\n",
    "    max_eaatten = len(candy)//2\n",
    "    return min(unique_candy,max_eaatten)\n",
    "print(f'Since there are only {max_eat(candy)} types, she can eat one of each type.')"
   ]
  },
  {
   "cell_type": "markdown",
   "id": "34952f21-5676-4187-bf35-022c3fec40b1",
   "metadata": {},
   "source": [
    "#### Question-3"
   ]
  },
  {
   "cell_type": "markdown",
   "id": "b6c612bc-2e3e-43bf-927b-6f659edace50",
   "metadata": {},
   "source": [
    "Question 3\n",
    "We define a harmonious array as an array where the difference between its maximum value\n",
    "and its minimum value is exactly 1.\n",
    "\n",
    "Given an integer array nums, return the length of its longest harmonious subsequence\n",
    "among all its possible subsequences.\n",
    "\n",
    "A subsequence of an array is a sequence that can be derived from the array by deleting some or no elements without changing the order of the remaining elements.\n",
    "\n",
    "Example 1:\n",
    "Input: nums = [1,3,2,2,5,2,3,7]\n",
    "Output: 5\n",
    "\n",
    "Explanation: The longest harmonious subsequence is [3,2,2,2,3]."
   ]
  },
  {
   "cell_type": "code",
   "execution_count": 14,
   "id": "aaaee264-6648-4f34-9b8f-50833a100f66",
   "metadata": {},
   "outputs": [
    {
     "name": "stdin",
     "output_type": "stream",
     "text": [
      "Enter no. of Elements present in array: 8\n",
      "Enter index-0 element: 1\n",
      "Enter index-1 element: 3\n",
      "Enter index-2 element: 2\n",
      "Enter index-3 element: 2\n",
      "Enter index-4 element: 5\n",
      "Enter index-5 element: 2\n",
      "Enter index-6 element: 3\n",
      "Enter index-7 element: 7\n"
     ]
    },
    {
     "name": "stdout",
     "output_type": "stream",
     "text": [
      "Array is :[1, 3, 2, 2, 5, 2, 3, 7]\n",
      "Output: 5\n"
     ]
    }
   ],
   "source": [
    "num = int(input('Enter no. of Elements present in array:'))\n",
    "arr = []\n",
    "for i in range(num):\n",
    "    ele = int(input(f'Enter index-{i} element:'))\n",
    "    arr.append(ele)\n",
    "print(f'Array is :{arr}')\n",
    "\n",
    "def findLHS(nums):\n",
    "    counter = {}\n",
    "    for num in nums:\n",
    "        counter[num] = counter.get(num, 0) + 1\n",
    "    \n",
    "    max_length = 0\n",
    "    for num in counter:\n",
    "        if num + 1 in counter:\n",
    "            max_length = max(max_length, counter[num] + counter[num + 1])\n",
    "    \n",
    "    return max_length\n",
    "\n",
    "max_length = findLHS(nums)\n",
    "print('Output:',max_length) "
   ]
  },
  {
   "cell_type": "markdown",
   "id": "88080e4b-60ee-48d0-8cf3-d569ce256f1f",
   "metadata": {},
   "source": [
    "#### Question-4"
   ]
  },
  {
   "cell_type": "markdown",
   "id": "24c6b8fe-debc-439f-a8d5-c682b406a997",
   "metadata": {},
   "source": [
    "Question 4\n",
    "You have a long flowerbed in which some of the plots are planted, and some are not.\n",
    "However, flowers cannot be planted in adjacent plots.\n",
    "Given an integer array flowerbed containing 0's and 1's, where 0 means empty and 1 means not empty, and an integer n, return true if n new flowers can be planted in the flowerbed without violating the no-adjacent-flowers rule and false otherwise.\n",
    "\n",
    "Example 1:\n",
    "Input: flowerbed = [1,0,0,0,1], n = 1\n",
    "Output: true"
   ]
  },
  {
   "cell_type": "code",
   "execution_count": 24,
   "id": "5b962712-f031-4905-b3c6-86b0a80f7b73",
   "metadata": {},
   "outputs": [
    {
     "name": "stdout",
     "output_type": "stream",
     "text": [
      "Flowerbed: [1, 0, 0, 0, 1]\n",
      "True\n"
     ]
    }
   ],
   "source": [
    "flowerbed = [1, 0, 0, 0, 1]\n",
    "n = 1\n",
    "print('Flowerbed:',flowerbed)\n",
    "def canPlaceFlowers(flowerbed, n):\n",
    "    count = 0\n",
    "    for i in range(len(flowerbed)):\n",
    "        if flowerbed[i] == 0 and (i == 0 or flowerbed[i-1] == 0) and (i == len(flowerbed)-1 or flowerbed[i+1] == 0):\n",
    "            flowerbed[i] = 1 \n",
    "            count += 1  \n",
    "    return count >= n\n",
    "\n",
    "can_plant = canPlaceFlowers(flowerbed, n)\n",
    "print(can_plant)"
   ]
  },
  {
   "cell_type": "markdown",
   "id": "40496ca8-cba2-403c-a357-cbde5ba61c71",
   "metadata": {},
   "source": [
    "#### Question-5"
   ]
  },
  {
   "cell_type": "markdown",
   "id": "a4b9832a-a0e6-4534-b0db-4ce802109401",
   "metadata": {},
   "source": [
    "Question 5\n",
    "Given an integer array nums, find three numbers whose product is maximum and return the maximum product.\n",
    "\n",
    "Example 1:\n",
    "Input: nums = [1,2,3]\n",
    "Output: 6"
   ]
  },
  {
   "cell_type": "code",
   "execution_count": 27,
   "id": "dc577612-522d-4037-a364-975cdf65b65b",
   "metadata": {},
   "outputs": [
    {
     "name": "stdin",
     "output_type": "stream",
     "text": [
      "Enter no. of Elements present in array: 3\n",
      "Enter index-0 element: 1\n",
      "Enter index-1 element: 2\n",
      "Enter index-2 element: 3\n"
     ]
    },
    {
     "name": "stdout",
     "output_type": "stream",
     "text": [
      "Array is :[1, 2, 3]\n",
      "Prroduct is 6\n"
     ]
    }
   ],
   "source": [
    "num = int(input('Enter no. of Elements present in array:'))\n",
    "arr = []\n",
    "for i in range(num):\n",
    "    ele = int(input(f'Enter index-{i} element:'))\n",
    "    arr.append(ele)\n",
    "print(f'Array is :{arr}')\n",
    "def pro(num,arr):\n",
    "    mul=1\n",
    "    for i in range(num):\n",
    "        mul = mul*arr[i]\n",
    "    return mul\n",
    "print(f'Prroduct is {pro(num,arr)}')"
   ]
  },
  {
   "cell_type": "markdown",
   "id": "38d51524-876e-4c3f-b16a-3f205a23b14b",
   "metadata": {},
   "source": [
    "#### Question-6"
   ]
  },
  {
   "cell_type": "markdown",
   "id": "79b596ff-01d7-4b91-8be5-8ecfef0ac890",
   "metadata": {},
   "source": [
    "Question 6\n",
    "Given an array of integers nums which is sorted in ascending order, and an integer target,\n",
    "write a function to search target in nums. If target exists, then return its index. Otherwise,\n",
    "return -1.\n",
    "\n",
    "You must write an algorithm with O(log n) runtime complexity.\n",
    "\n",
    "Input: nums = [-1,0,3,5,9,12], target = 9\n",
    "Output: 4\n",
    "\n",
    "Explanation: 9 exists in nums and its index is 4"
   ]
  },
  {
   "cell_type": "code",
   "execution_count": 29,
   "id": "309c894d-d93f-4af6-aad8-9a5be83a7057",
   "metadata": {},
   "outputs": [
    {
     "name": "stdin",
     "output_type": "stream",
     "text": [
      "Enter no. of Elements present in array: 6\n",
      "Enter index-0 element: -1\n",
      "Enter index-1 element: 0\n",
      "Enter index-2 element: 3\n",
      "Enter index-3 element: 5\n",
      "Enter index-4 element: 9\n",
      "Enter index-5 element: 12\n"
     ]
    },
    {
     "name": "stdout",
     "output_type": "stream",
     "text": [
      "Array is :[-1, 0, 3, 5, 9, 12]\n"
     ]
    },
    {
     "name": "stdin",
     "output_type": "stream",
     "text": [
      "Enter Target Element : 9\n"
     ]
    },
    {
     "name": "stdout",
     "output_type": "stream",
     "text": [
      "9 exists in nums and its index is 4\n"
     ]
    }
   ],
   "source": [
    "num = int(input('Enter no. of Elements present in array:'))\n",
    "arr = []\n",
    "for i in range(num):\n",
    "    ele = int(input(f'Enter index-{i} element:'))\n",
    "    arr.append(ele)\n",
    "print(f'Array is :{arr}')\n",
    "target = int(input('Enter Target Element :'))\n",
    "\n",
    "def search(num,arr,target):\n",
    "    for i in range(num):\n",
    "        if(arr[i]==target):\n",
    "            return i\n",
    "    return -1\n",
    "print(f'{target} exists in nums and its index is {search(num,arr,target)}')"
   ]
  },
  {
   "cell_type": "markdown",
   "id": "5fc70d54-492c-405d-9ac9-4b7113d23ea4",
   "metadata": {},
   "source": [
    "#### Question-7"
   ]
  },
  {
   "cell_type": "markdown",
   "id": "b6fd6610-d7db-40f5-84b6-f99f41c47852",
   "metadata": {},
   "source": [
    "Question 7\n",
    "An array is monotonic if it is either monotone increasing or monotone decreasing.\n",
    "\n",
    "An array nums is monotone increasing if for all i <= j, nums[i] <= nums[j]. An array nums is\n",
    "monotone decreasing if for all i <= j, nums[i] >= nums[j].\n",
    "\n",
    "Given an integer array nums, return true if the given array is monotonic, or false otherwise.\n",
    "\n",
    "Example 1:\n",
    "Input: nums = [1,2,2,3]\n",
    "Output: true"
   ]
  },
  {
   "cell_type": "code",
   "execution_count": 38,
   "id": "f5b1ae73-6d79-46b7-a47a-c5fb85994392",
   "metadata": {},
   "outputs": [
    {
     "name": "stdin",
     "output_type": "stream",
     "text": [
      "Enter no. of Elements present in array: 4\n",
      "Enter index-0 element: 1\n",
      "Enter index-1 element: 2\n",
      "Enter index-2 element: 2\n",
      "Enter index-3 element: 3\n"
     ]
    },
    {
     "name": "stdout",
     "output_type": "stream",
     "text": [
      "Array is :[1, 2, 2, 3]\n",
      "Output is: True\n"
     ]
    }
   ],
   "source": [
    "num = int(input('Enter no. of Elements present in array:'))\n",
    "arr = []\n",
    "for i in range(num):\n",
    "    ele = int(input(f'Enter index-{i} element:'))\n",
    "    arr.append(ele)\n",
    "print(f'Array is :{arr}')\n",
    "\n",
    "def monotone(nums):\n",
    "    isIncreasing = True\n",
    "    isDecreasing = True\n",
    "    for i in range(1, len(nums)):\n",
    "        if nums[i] > nums[i-1]:\n",
    "            isDecreasing = False\n",
    "        elif nums[i] < nums[i-1]:\n",
    "            isIncreasing = False\n",
    "        if not isIncreasing and not isDecreasing:\n",
    "            return False\n",
    "    \n",
    "    return True\n",
    "    return False\n",
    "print('Output is:',monotone(arr))"
   ]
  },
  {
   "cell_type": "markdown",
   "id": "96c9b8f5-5bb4-4595-bc1a-0846b5ac468f",
   "metadata": {},
   "source": [
    "#### Question-8"
   ]
  },
  {
   "cell_type": "markdown",
   "id": "871b7ea6-bdf7-4bb2-b9ae-59ca3373bced",
   "metadata": {},
   "source": [
    "Question 8\n",
    "You are given an integer array nums and an integer k.\n",
    "\n",
    "In one operation, you can choose any index i where 0 <= i < nums.length and change nums[i] to nums[i] + x where x is an integer from the range [-k, k]. You can apply this operation at most once for each index i.\n",
    "\n",
    "The score of nums is the difference between the maximum and minimum elements in nums.\n",
    "\n",
    "Return the minimum score of nums after applying the mentioned operation at most once for each index in it.\n",
    "\n",
    "Example 1:\n",
    "Input: nums = [1], k = 0\n",
    "Output: 0\n",
    "\n",
    "Explanation: The score is max(nums) - min(nums) = 1 - 1 = 0."
   ]
  },
  {
   "cell_type": "code",
   "execution_count": 43,
   "id": "33f426d5-8825-4a08-ba9f-f5b58575fd3e",
   "metadata": {},
   "outputs": [
    {
     "name": "stdout",
     "output_type": "stream",
     "text": [
      "nums: [1]\n",
      "k= 0\n",
      "The score is: 0\n"
     ]
    }
   ],
   "source": [
    "nums = [1]\n",
    "k = 0\n",
    "print('nums:',nums)\n",
    "print('k=',k)\n",
    "def minimumScore(nums, k):\n",
    "    nums.sort()  \n",
    "    min_val = nums[0]\n",
    "    max_val = nums[-1]\n",
    "    for i in range(len(nums) - 1):\n",
    "        potential_min = min(nums[i+1] - k, min_val)\n",
    "        potential_max = max(nums[i] + k, max_val)\n",
    "        \n",
    "        min_val = min(min_val, potential_min)\n",
    "        max_val = max(max_val, potential_max)\n",
    "\n",
    "    score = max_val - min_val\n",
    "    return score\n",
    "\n",
    "min_score = minimumScore(nums, k)\n",
    "print('The score is:',min_score)"
   ]
  },
  {
   "cell_type": "code",
   "execution_count": null,
   "id": "9a518393-dda9-4e25-abcc-92459d8d3e41",
   "metadata": {},
   "outputs": [],
   "source": []
  }
 ],
 "metadata": {
  "kernelspec": {
   "display_name": "Python 3 (ipykernel)",
   "language": "python",
   "name": "python3"
  },
  "language_info": {
   "codemirror_mode": {
    "name": "ipython",
    "version": 3
   },
   "file_extension": ".py",
   "mimetype": "text/x-python",
   "name": "python",
   "nbconvert_exporter": "python",
   "pygments_lexer": "ipython3",
   "version": "3.10.8"
  }
 },
 "nbformat": 4,
 "nbformat_minor": 5
}
